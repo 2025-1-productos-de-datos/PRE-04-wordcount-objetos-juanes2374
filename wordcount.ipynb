{
 "cells": [
  {
   "cell_type": "code",
   "execution_count": 1,
   "id": "330cfd4b",
   "metadata": {},
   "outputs": [],
   "source": [
    "# import the os package for file and directory manipulation\n",
    "import os"
   ]
  },
  {
   "cell_type": "code",
   "execution_count": 2,
   "id": "e5b199f1",
   "metadata": {},
   "outputs": [],
   "source": [
    "# create the directory input/ if it doesn't exist\n",
    "if not os.path.exists('data/input'):\n",
    "    os.makedirs('data/input')"
   ]
  },
  {
   "cell_type": "code",
   "execution_count": 4,
   "id": "eb8dd4da",
   "metadata": {},
   "outputs": [
    {
     "ename": "FileNotFoundError",
     "evalue": "[WinError 3] El sistema no puede encontrar la ruta especificada: 'data/raw/'",
     "output_type": "error",
     "traceback": [
      "\u001b[31m---------------------------------------------------------------------------\u001b[39m",
      "\u001b[31mFileNotFoundError\u001b[39m                         Traceback (most recent call last)",
      "\u001b[36mCell\u001b[39m\u001b[36m \u001b[39m\u001b[32mIn[4]\u001b[39m\u001b[32m, line 3\u001b[39m\n\u001b[32m      1\u001b[39m \u001b[38;5;66;03m# create 1000 copies of the raw files to \"../data/input\" using shutil\u001b[39;00m\n\u001b[32m      2\u001b[39m \u001b[38;5;28;01mimport\u001b[39;00m\u001b[38;5;250m \u001b[39m\u001b[34;01mshutil\u001b[39;00m\n\u001b[32m----> \u001b[39m\u001b[32m3\u001b[39m x = \u001b[43mos\u001b[49m\u001b[43m.\u001b[49m\u001b[43mlistdir\u001b[49m\u001b[43m(\u001b[49m\u001b[33;43m'\u001b[39;49m\u001b[33;43mdata/raw/\u001b[39;49m\u001b[33;43m'\u001b[39;49m\u001b[43m)\u001b[49m\n\u001b[32m      4\u001b[39m \u001b[38;5;28;01mfor\u001b[39;00m y \u001b[38;5;129;01min\u001b[39;00m x:\n\u001b[32m      5\u001b[39m     \u001b[38;5;28;01mfor\u001b[39;00m i \u001b[38;5;129;01min\u001b[39;00m \u001b[38;5;28mrange\u001b[39m(\u001b[32m10\u001b[39m):\n",
      "\u001b[31mFileNotFoundError\u001b[39m: [WinError 3] El sistema no puede encontrar la ruta especificada: 'data/raw/'"
     ]
    }
   ],
   "source": [
    "# create 1000 copies of the raw files to \"../data/input\" using shutil\n",
    "import shutil\n",
    "x = os.listdir('data/raw/')\n",
    "for y in x:\n",
    "    for i in range(10):\n",
    "        filename = f\"{os.path.basename(y).split('.')[0]}_{i}.txt\"\n",
    "        shutil.copy(\"data/raw/\" + y, 'data/input/' + filename)"
   ]
  },
  {
   "cell_type": "code",
   "execution_count": 5,
   "id": "42601af7",
   "metadata": {},
   "outputs": [],
   "source": [
    "# count the frequency of the words in the files in the input directory\n",
    "files_in_input_dir=os.listdir('data/input/')\n",
    "counter={}\n",
    "for filename in files_in_input_dir:\n",
    "    with open('data/input/'+filename) as f:\n",
    "        for l in f:\n",
    "            for w in l.split( ):\n",
    "                w = w.lower().strip(\",.!?\")\n",
    "                counter[w] = counter.get(w, 0) + 1"
   ]
  },
  {
   "cell_type": "code",
   "execution_count": 6,
   "id": "bb15f865",
   "metadata": {},
   "outputs": [],
   "source": [
    "# create the directory output/ if it doesn't exist\n",
    "if not os.path.exists('data/output'):\n",
    "    os.makedirs('data/output')\n",
    "\n",
    "# save the results using tsv format\n",
    "with open(\"data/output/results.tsv\", \"w\", encoding=\"utf-8\") as f:\n",
    "        for key, value in counter.items():\n",
    "            # write the key and value to the file\n",
    "            f.write(f\"{key}\\t{value}\\n\")\n"
   ]
  }
 ],
 "metadata": {
  "kernelspec": {
   "display_name": ".venv",
   "language": "python",
   "name": "python3"
  },
  "language_info": {
   "codemirror_mode": {
    "name": "ipython",
    "version": 3
   },
   "file_extension": ".py",
   "mimetype": "text/x-python",
   "name": "python",
   "nbconvert_exporter": "python",
   "pygments_lexer": "ipython3",
   "version": "3.13.3"
  }
 },
 "nbformat": 4,
 "nbformat_minor": 5
}
